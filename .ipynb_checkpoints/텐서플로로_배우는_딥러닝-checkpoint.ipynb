{
 "cells": [
  {
   "cell_type": "code",
   "execution_count": 1,
   "id": "1f7bacfd",
   "metadata": {},
   "outputs": [],
   "source": [
    "import tensorflow as tf"
   ]
  },
  {
   "cell_type": "code",
   "execution_count": 3,
   "id": "9d7e2795",
   "metadata": {},
   "outputs": [
    {
     "data": {
      "text/plain": [
       "'2.7.0'"
      ]
     },
     "execution_count": 3,
     "metadata": {},
     "output_type": "execute_result"
    }
   ],
   "source": [
    "tf.__version__"
   ]
  },
  {
   "cell_type": "markdown",
   "id": "9be3a48e",
   "metadata": {},
   "source": [
    "## 노드 생성"
   ]
  },
  {
   "cell_type": "code",
   "execution_count": 4,
   "id": "8ba30be3",
   "metadata": {},
   "outputs": [
    {
     "name": "stdout",
     "output_type": "stream",
     "text": [
      "tf.Tensor(3.0, shape=(), dtype=float32) tf.Tensor(4.0, shape=(), dtype=float32)\n"
     ]
    }
   ],
   "source": [
    "node1 = tf.constant(3.0, dtype=tf.float32)\n",
    "node2 = tf.constant(4.0) #암묵적으로 float32\n",
    "print(node1, node2)"
   ]
  },
  {
   "cell_type": "markdown",
   "id": "b376365c",
   "metadata": {},
   "source": [
    "## 세션 실행"
   ]
  },
  {
   "cell_type": "code",
   "execution_count": 9,
   "id": "5f176bf5",
   "metadata": {},
   "outputs": [
    {
     "name": "stdout",
     "output_type": "stream",
     "text": [
      "3 4\r\n"
     ]
    }
   ],
   "source": [
    "tf.print(node1,node2)"
   ]
  },
  {
   "cell_type": "markdown",
   "id": "be19934f",
   "metadata": {},
   "source": [
    "## 노드 추가"
   ]
  },
  {
   "cell_type": "code",
   "execution_count": 10,
   "id": "2ed7af9f",
   "metadata": {},
   "outputs": [],
   "source": [
    "node3 = tf.add(node1, node2)"
   ]
  },
  {
   "cell_type": "code",
   "execution_count": 12,
   "id": "7b246cc0",
   "metadata": {},
   "outputs": [
    {
     "name": "stdout",
     "output_type": "stream",
     "text": [
      "7\r\n"
     ]
    }
   ],
   "source": [
    "tf.print(node3)"
   ]
  },
  {
   "cell_type": "markdown",
   "id": "36f5df79",
   "metadata": {},
   "source": [
    "## Placeholder"
   ]
  },
  {
   "cell_type": "code",
   "execution_count": 24,
   "id": "8841e48d",
   "metadata": {},
   "outputs": [
    {
     "name": "stdout",
     "output_type": "stream",
     "text": [
      "tf.Tensor(\n",
      "[[1. 1.]\n",
      " [1. 1.]], shape=(2, 2), dtype=float32)\n"
     ]
    }
   ],
   "source": [
    "a = tf.Variable(tf.ones(shape=(2,2)), name=\"W\")\n",
    "b = tf.Variable(tf.zeros(shape=(2,2)), name=\"b\")\n",
    "adder_node = a + b\n",
    "print(adder_node)"
   ]
  },
  {
   "cell_type": "code",
   "execution_count": null,
   "id": "3d1e0b45",
   "metadata": {},
   "outputs": [],
   "source": []
  }
 ],
 "metadata": {
  "kernelspec": {
   "display_name": "Python 3 (ipykernel)",
   "language": "python",
   "name": "python3"
  },
  "language_info": {
   "codemirror_mode": {
    "name": "ipython",
    "version": 3
   },
   "file_extension": ".py",
   "mimetype": "text/x-python",
   "name": "python",
   "nbconvert_exporter": "python",
   "pygments_lexer": "ipython3",
   "version": "3.7.11"
  }
 },
 "nbformat": 4,
 "nbformat_minor": 5
}
