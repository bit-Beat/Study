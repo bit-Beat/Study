{
 "cells": [
  {
   "cell_type": "markdown",
   "id": "a58ff3ce",
   "metadata": {},
   "source": [
    "## 방정식의 해를 구하는 라이브러리"
   ]
  },
  {
   "cell_type": "code",
   "execution_count": 2,
   "id": "1e3928bb",
   "metadata": {},
   "outputs": [],
   "source": [
    "from sympy import Symbol, solve"
   ]
  },
  {
   "cell_type": "code",
   "execution_count": 10,
   "id": "6d4d3a2f",
   "metadata": {},
   "outputs": [],
   "source": [
    "x = Symbol('x')\n",
    "y = Symbol('y')"
   ]
  },
  {
   "cell_type": "code",
   "execution_count": 11,
   "id": "f037c6f2",
   "metadata": {},
   "outputs": [
    {
     "data": {
      "text/latex": [
       "$\\displaystyle 2 x - 6$"
      ],
      "text/plain": [
       "2*x - 6"
      ]
     },
     "execution_count": 11,
     "metadata": {},
     "output_type": "execute_result"
    }
   ],
   "source": [
    "equation = 2 * x - 6\n",
    "equation2 = 2 * x + y -6\n",
    "equation"
   ]
  },
  {
   "cell_type": "code",
   "execution_count": 12,
   "id": "cb3358a2",
   "metadata": {},
   "outputs": [
    {
     "data": {
      "text/plain": [
       "[3]"
      ]
     },
     "execution_count": 12,
     "metadata": {},
     "output_type": "execute_result"
    }
   ],
   "source": [
    "solve(equation)"
   ]
  },
  {
   "cell_type": "code",
   "execution_count": 13,
   "id": "dfda6431",
   "metadata": {},
   "outputs": [
    {
     "data": {
      "text/plain": [
       "[{x: 3 - y/2}]"
      ]
     },
     "execution_count": 13,
     "metadata": {},
     "output_type": "execute_result"
    }
   ],
   "source": [
    "solve(equation2)"
   ]
  },
  {
   "cell_type": "markdown",
   "id": "1b6f8c0b",
   "metadata": {},
   "source": [
    "- 연립방정식 구하는 식"
   ]
  },
  {
   "cell_type": "code",
   "execution_count": 14,
   "id": "432c7cec",
   "metadata": {},
   "outputs": [],
   "source": [
    "x = Symbol('x')\n",
    "y = Symbol('y')"
   ]
  },
  {
   "cell_type": "code",
   "execution_count": 15,
   "id": "936a0f21",
   "metadata": {},
   "outputs": [],
   "source": [
    "equation1 = 3 * x + y - 2\n",
    "equation2 = x - 2 * y - 3"
   ]
  },
  {
   "cell_type": "code",
   "execution_count": 16,
   "id": "831648d1",
   "metadata": {},
   "outputs": [
    {
     "data": {
      "text/plain": [
       "[{x: 1, y: -1}]"
      ]
     },
     "execution_count": 16,
     "metadata": {},
     "output_type": "execute_result"
    }
   ],
   "source": [
    "solve((equation1, equation2),dict=True) ## dict옵션은 해를 딕셔너리 형태로 반환"
   ]
  },
  {
   "cell_type": "markdown",
   "id": "a3644cdd",
   "metadata": {},
   "source": [
    "## 제곱근 구하기"
   ]
  },
  {
   "cell_type": "code",
   "execution_count": 20,
   "id": "8f1f34d4",
   "metadata": {},
   "outputs": [],
   "source": [
    "import math"
   ]
  },
  {
   "cell_type": "code",
   "execution_count": 21,
   "id": "60732ce5",
   "metadata": {},
   "outputs": [
    {
     "data": {
      "text/plain": [
       "2.0"
      ]
     },
     "execution_count": 21,
     "metadata": {},
     "output_type": "execute_result"
    }
   ],
   "source": [
    "math.sqrt(4) ## 4의 제곱근은 2"
   ]
  },
  {
   "cell_type": "code",
   "execution_count": 22,
   "id": "049dc605",
   "metadata": {},
   "outputs": [
    {
     "data": {
      "text/plain": [
       "1.4142135623730951"
      ]
     },
     "execution_count": 22,
     "metadata": {},
     "output_type": "execute_result"
    }
   ],
   "source": [
    "math.sqrt(2)"
   ]
  },
  {
   "cell_type": "code",
   "execution_count": 24,
   "id": "536689d2",
   "metadata": {},
   "outputs": [
    {
     "data": {
      "text/plain": [
       "1.7320508075688772"
      ]
     },
     "execution_count": 24,
     "metadata": {},
     "output_type": "execute_result"
    }
   ],
   "source": [
    "math.sqrt(3)"
   ]
  },
  {
   "cell_type": "code",
   "execution_count": 37,
   "id": "b05c1feb",
   "metadata": {},
   "outputs": [
    {
     "data": {
      "text/plain": [
       "7.416198487095663"
      ]
     },
     "execution_count": 37,
     "metadata": {},
     "output_type": "execute_result"
    }
   ],
   "source": [
    "math.sqrt(55)"
   ]
  },
  {
   "cell_type": "markdown",
   "id": "61781278",
   "metadata": {},
   "source": [
    "## 인수분해 및 전개 구하기"
   ]
  },
  {
   "cell_type": "code",
   "execution_count": 27,
   "id": "1fa600f6",
   "metadata": {},
   "outputs": [],
   "source": [
    "from sympy import expand, factor, Symbol"
   ]
  },
  {
   "cell_type": "code",
   "execution_count": 32,
   "id": "e7a8d428",
   "metadata": {},
   "outputs": [],
   "source": [
    "x = Symbol('x')\n",
    "y = Symbol('y')"
   ]
  },
  {
   "cell_type": "code",
   "execution_count": 30,
   "id": "0ae8b4ca",
   "metadata": {},
   "outputs": [
    {
     "data": {
      "text/latex": [
       "$\\displaystyle x^{2} + 6 x + 5$"
      ],
      "text/plain": [
       "x**2 + 6*x + 5"
      ]
     },
     "execution_count": 30,
     "metadata": {},
     "output_type": "execute_result"
    }
   ],
   "source": [
    "expand((x+1) * (x+5)) ## 전개"
   ]
  },
  {
   "cell_type": "code",
   "execution_count": 31,
   "id": "350a6ca1",
   "metadata": {},
   "outputs": [
    {
     "data": {
      "text/latex": [
       "$\\displaystyle \\left(x + 1\\right) \\left(x + 5\\right)$"
      ],
      "text/plain": [
       "(x + 1)*(x + 5)"
      ]
     },
     "execution_count": 31,
     "metadata": {},
     "output_type": "execute_result"
    }
   ],
   "source": [
    "factor(x**2 +6*x + 5) ## 인수분해"
   ]
  },
  {
   "cell_type": "code",
   "execution_count": 36,
   "id": "160595d6",
   "metadata": {},
   "outputs": [
    {
     "data": {
      "text/latex": [
       "$\\displaystyle x^{2} + y^{2}$"
      ],
      "text/plain": [
       "x**2 + y**2"
      ]
     },
     "execution_count": 36,
     "metadata": {},
     "output_type": "execute_result"
    }
   ],
   "source": [
    "factor((x**2) + (y**2))"
   ]
  },
  {
   "cell_type": "markdown",
   "id": "91e27a99",
   "metadata": {},
   "source": [
    "## 지수함수 구하기"
   ]
  },
  {
   "cell_type": "code",
   "execution_count": 39,
   "id": "fe58104a",
   "metadata": {},
   "outputs": [],
   "source": [
    "import math"
   ]
  },
  {
   "cell_type": "code",
   "execution_count": 41,
   "id": "f2c41029",
   "metadata": {},
   "outputs": [
    {
     "name": "stdout",
     "output_type": "stream",
     "text": [
      "32.0\n"
     ]
    }
   ],
   "source": [
    "pow = math.pow(2,5) ## 2**5\n",
    "print(pow)"
   ]
  },
  {
   "cell_type": "code",
   "execution_count": 42,
   "id": "e60affb2",
   "metadata": {},
   "outputs": [
    {
     "name": "stdout",
     "output_type": "stream",
     "text": [
      "1.4142135623730951\n"
     ]
    }
   ],
   "source": [
    "sqrt = math.sqrt(2)\n",
    "print(sqrt)"
   ]
  },
  {
   "cell_type": "code",
   "execution_count": 43,
   "id": "9961cc58",
   "metadata": {},
   "outputs": [
    {
     "name": "stdout",
     "output_type": "stream",
     "text": [
      "7.38905609893065\n"
     ]
    }
   ],
   "source": [
    "exp = math.exp(2) ## e의 2제곱\n",
    "print(exp)"
   ]
  },
  {
   "cell_type": "markdown",
   "id": "a668910f",
   "metadata": {},
   "source": [
    "## 로그함수 구하기"
   ]
  },
  {
   "cell_type": "code",
   "execution_count": 49,
   "id": "12c761b5",
   "metadata": {},
   "outputs": [],
   "source": [
    "import math"
   ]
  },
  {
   "cell_type": "code",
   "execution_count": 50,
   "id": "cc661740",
   "metadata": {},
   "outputs": [
    {
     "data": {
      "text/plain": [
       "0.5"
      ]
     },
     "execution_count": 50,
     "metadata": {},
     "output_type": "execute_result"
    }
   ],
   "source": [
    "math.log(2,4) #밑이 4이고 진수가 2인 로그 log42"
   ]
  },
  {
   "cell_type": "markdown",
   "id": "4c30e0e0",
   "metadata": {},
   "source": [
    "## 극한값 구하기"
   ]
  },
  {
   "cell_type": "code",
   "execution_count": 2,
   "id": "8d391ee9",
   "metadata": {},
   "outputs": [],
   "source": [
    "from sympy import Limit, S, Symbol"
   ]
  },
  {
   "cell_type": "code",
   "execution_count": 3,
   "id": "dbdfb725",
   "metadata": {},
   "outputs": [
    {
     "data": {
      "text/latex": [
       "$\\displaystyle 0$"
      ],
      "text/plain": [
       "0"
      ]
     },
     "execution_count": 3,
     "metadata": {},
     "output_type": "execute_result"
    }
   ],
   "source": [
    "x = Symbol('x')\n",
    "Limit(1/x,x,S.Infinity).doit()"
   ]
  },
  {
   "cell_type": "code",
   "execution_count": 4,
   "id": "239ba036",
   "metadata": {},
   "outputs": [
    {
     "data": {
      "text/latex": [
       "$\\displaystyle \\infty$"
      ],
      "text/plain": [
       "oo"
      ]
     },
     "execution_count": 4,
     "metadata": {},
     "output_type": "execute_result"
    }
   ],
   "source": [
    "Limit(1/x,x,0).doit()"
   ]
  },
  {
   "cell_type": "code",
   "execution_count": 5,
   "id": "31899637",
   "metadata": {},
   "outputs": [
    {
     "data": {
      "text/latex": [
       "$\\displaystyle -\\infty$"
      ],
      "text/plain": [
       "-oo"
      ]
     },
     "execution_count": 5,
     "metadata": {},
     "output_type": "execute_result"
    }
   ],
   "source": [
    "Limit(1/x,x,0,dir='-').doit()"
   ]
  },
  {
   "cell_type": "markdown",
   "id": "ef5ab477",
   "metadata": {},
   "source": [
    "## 평균변화율 (기울기) 구하기"
   ]
  },
  {
   "cell_type": "code",
   "execution_count": 8,
   "id": "3ba69c7b",
   "metadata": {},
   "outputs": [],
   "source": [
    "from sympy import symbols"
   ]
  },
  {
   "cell_type": "code",
   "execution_count": 10,
   "id": "2a6ebcaf",
   "metadata": {},
   "outputs": [
    {
     "name": "stdout",
     "output_type": "stream",
     "text": [
      "8\n"
     ]
    }
   ],
   "source": [
    "def average(a,b):\n",
    "    m = max(a,b)\n",
    "    n = min(a,b)\n",
    "    x = symbols('x')\n",
    "    \n",
    "    fx = (2*(x**2)) + (4*x) + 7 \n",
    "    fb = fx.subs(x, m)\n",
    "    fa = fx.subs(x, n)\n",
    "    \n",
    "    result = (fb - fa) / (m-n)\n",
    "    return result\n",
    "\n",
    "print(average(0,2))"
   ]
  },
  {
   "cell_type": "markdown",
   "id": "ff81e4a8",
   "metadata": {},
   "source": [
    "## 도함수 구하기"
   ]
  },
  {
   "cell_type": "code",
   "execution_count": 11,
   "id": "edbc1f5a",
   "metadata": {},
   "outputs": [],
   "source": [
    "from sympy import Derivative, symbols"
   ]
  },
  {
   "cell_type": "code",
   "execution_count": 12,
   "id": "cf9a545a",
   "metadata": {},
   "outputs": [],
   "source": [
    "x = symbols('x')\n",
    "fx = (2*(x**2)) + (7 * x) + 7"
   ]
  },
  {
   "cell_type": "code",
   "execution_count": 17,
   "id": "f0b9fc53",
   "metadata": {},
   "outputs": [
    {
     "data": {
      "text/latex": [
       "$\\displaystyle 4 x + 7$"
      ],
      "text/plain": [
       "4*x + 7"
      ]
     },
     "execution_count": 17,
     "metadata": {},
     "output_type": "execute_result"
    }
   ],
   "source": [
    "Derivative(fx,x).doit()"
   ]
  },
  {
   "cell_type": "markdown",
   "id": "e53b1206",
   "metadata": {},
   "source": [
    "## 미분"
   ]
  },
  {
   "cell_type": "code",
   "execution_count": 20,
   "id": "ee14fc24",
   "metadata": {},
   "outputs": [],
   "source": [
    "import sympy as sym"
   ]
  },
  {
   "cell_type": "code",
   "execution_count": 21,
   "id": "0096f014",
   "metadata": {},
   "outputs": [
    {
     "name": "stdout",
     "output_type": "stream",
     "text": [
      "6*x**2 + 6*x + 1\n"
     ]
    }
   ],
   "source": [
    "x = sym.Symbol('x')\n",
    "a = sym.diff((2*x**3 + 3*x**2 + x + 1),x)\n",
    "print(a)"
   ]
  },
  {
   "cell_type": "code",
   "execution_count": 23,
   "id": "02a4869f",
   "metadata": {},
   "outputs": [
    {
     "data": {
      "text/latex": [
       "$\\displaystyle 4 x + 7$"
      ],
      "text/plain": [
       "4*x + 7"
      ]
     },
     "execution_count": 23,
     "metadata": {},
     "output_type": "execute_result"
    }
   ],
   "source": [
    "fx = (2*(x**2)) + (7*x) + 7\n",
    "sym.diff(fx)"
   ]
  },
  {
   "cell_type": "markdown",
   "id": "c1b66190",
   "metadata": {},
   "source": [
    "- 도함수와 미분의 값이 같다"
   ]
  },
  {
   "cell_type": "code",
   "execution_count": null,
   "id": "e72b4479",
   "metadata": {},
   "outputs": [],
   "source": []
  }
 ],
 "metadata": {
  "kernelspec": {
   "display_name": "Python 3 (ipykernel)",
   "language": "python",
   "name": "python3"
  },
  "language_info": {
   "codemirror_mode": {
    "name": "ipython",
    "version": 3
   },
   "file_extension": ".py",
   "mimetype": "text/x-python",
   "name": "python",
   "nbconvert_exporter": "python",
   "pygments_lexer": "ipython3",
   "version": "3.7.11"
  }
 },
 "nbformat": 4,
 "nbformat_minor": 5
}
