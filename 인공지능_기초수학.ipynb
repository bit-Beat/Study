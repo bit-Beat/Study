{
 "cells": [
  {
   "cell_type": "markdown",
   "id": "a58ff3ce",
   "metadata": {},
   "source": [
    "## 방정식의 해를 구하는 라이브러리"
   ]
  },
  {
   "cell_type": "code",
   "execution_count": 2,
   "id": "1e3928bb",
   "metadata": {},
   "outputs": [],
   "source": [
    "from sympy import Symbol, solve"
   ]
  },
  {
   "cell_type": "code",
   "execution_count": 10,
   "id": "6d4d3a2f",
   "metadata": {},
   "outputs": [],
   "source": [
    "x = Symbol('x')\n",
    "y = Symbol('y')"
   ]
  },
  {
   "cell_type": "code",
   "execution_count": 11,
   "id": "f037c6f2",
   "metadata": {},
   "outputs": [
    {
     "data": {
      "text/latex": [
       "$\\displaystyle 2 x - 6$"
      ],
      "text/plain": [
       "2*x - 6"
      ]
     },
     "execution_count": 11,
     "metadata": {},
     "output_type": "execute_result"
    }
   ],
   "source": [
    "equation = 2 * x - 6\n",
    "equation2 = 2 * x + y -6\n",
    "equation"
   ]
  },
  {
   "cell_type": "code",
   "execution_count": 12,
   "id": "cb3358a2",
   "metadata": {},
   "outputs": [
    {
     "data": {
      "text/plain": [
       "[3]"
      ]
     },
     "execution_count": 12,
     "metadata": {},
     "output_type": "execute_result"
    }
   ],
   "source": [
    "solve(equation)"
   ]
  },
  {
   "cell_type": "code",
   "execution_count": 13,
   "id": "dfda6431",
   "metadata": {},
   "outputs": [
    {
     "data": {
      "text/plain": [
       "[{x: 3 - y/2}]"
      ]
     },
     "execution_count": 13,
     "metadata": {},
     "output_type": "execute_result"
    }
   ],
   "source": [
    "solve(equation2)"
   ]
  },
  {
   "cell_type": "markdown",
   "id": "1b6f8c0b",
   "metadata": {},
   "source": [
    "- 연립방정식 구하는 식"
   ]
  },
  {
   "cell_type": "code",
   "execution_count": 14,
   "id": "432c7cec",
   "metadata": {},
   "outputs": [],
   "source": [
    "x = Symbol('x')\n",
    "y = Symbol('y')"
   ]
  },
  {
   "cell_type": "code",
   "execution_count": 15,
   "id": "936a0f21",
   "metadata": {},
   "outputs": [],
   "source": [
    "equation1 = 3 * x + y - 2\n",
    "equation2 = x - 2 * y - 3"
   ]
  },
  {
   "cell_type": "code",
   "execution_count": 16,
   "id": "831648d1",
   "metadata": {},
   "outputs": [
    {
     "data": {
      "text/plain": [
       "[{x: 1, y: -1}]"
      ]
     },
     "execution_count": 16,
     "metadata": {},
     "output_type": "execute_result"
    }
   ],
   "source": [
    "solve((equation1, equation2),dict=True) ## dict옵션은 해를 딕셔너리 형태로 반환"
   ]
  },
  {
   "cell_type": "markdown",
   "id": "a3644cdd",
   "metadata": {},
   "source": [
    "## 제곱근 구하기"
   ]
  },
  {
   "cell_type": "code",
   "execution_count": 20,
   "id": "8f1f34d4",
   "metadata": {},
   "outputs": [],
   "source": [
    "import math"
   ]
  },
  {
   "cell_type": "code",
   "execution_count": 21,
   "id": "60732ce5",
   "metadata": {},
   "outputs": [
    {
     "data": {
      "text/plain": [
       "2.0"
      ]
     },
     "execution_count": 21,
     "metadata": {},
     "output_type": "execute_result"
    }
   ],
   "source": [
    "math.sqrt(4) ## 4의 제곱근은 2"
   ]
  },
  {
   "cell_type": "code",
   "execution_count": 22,
   "id": "049dc605",
   "metadata": {},
   "outputs": [
    {
     "data": {
      "text/plain": [
       "1.4142135623730951"
      ]
     },
     "execution_count": 22,
     "metadata": {},
     "output_type": "execute_result"
    }
   ],
   "source": [
    "math.sqrt(2)"
   ]
  },
  {
   "cell_type": "code",
   "execution_count": 24,
   "id": "536689d2",
   "metadata": {},
   "outputs": [
    {
     "data": {
      "text/plain": [
       "1.7320508075688772"
      ]
     },
     "execution_count": 24,
     "metadata": {},
     "output_type": "execute_result"
    }
   ],
   "source": [
    "math.sqrt(3)"
   ]
  },
  {
   "cell_type": "code",
   "execution_count": 37,
   "id": "b05c1feb",
   "metadata": {},
   "outputs": [
    {
     "data": {
      "text/plain": [
       "7.416198487095663"
      ]
     },
     "execution_count": 37,
     "metadata": {},
     "output_type": "execute_result"
    }
   ],
   "source": [
    "math.sqrt(55)"
   ]
  },
  {
   "cell_type": "markdown",
   "id": "61781278",
   "metadata": {},
   "source": [
    "## 인수분해 및 전개 구하기"
   ]
  },
  {
   "cell_type": "code",
   "execution_count": 27,
   "id": "1fa600f6",
   "metadata": {},
   "outputs": [],
   "source": [
    "from sympy import expand, factor, Symbol"
   ]
  },
  {
   "cell_type": "code",
   "execution_count": 32,
   "id": "e7a8d428",
   "metadata": {},
   "outputs": [],
   "source": [
    "x = Symbol('x')\n",
    "y = Symbol('y')"
   ]
  },
  {
   "cell_type": "code",
   "execution_count": 30,
   "id": "0ae8b4ca",
   "metadata": {},
   "outputs": [
    {
     "data": {
      "text/latex": [
       "$\\displaystyle x^{2} + 6 x + 5$"
      ],
      "text/plain": [
       "x**2 + 6*x + 5"
      ]
     },
     "execution_count": 30,
     "metadata": {},
     "output_type": "execute_result"
    }
   ],
   "source": [
    "expand((x+1) * (x+5)) ## 전개"
   ]
  },
  {
   "cell_type": "code",
   "execution_count": 31,
   "id": "350a6ca1",
   "metadata": {},
   "outputs": [
    {
     "data": {
      "text/latex": [
       "$\\displaystyle \\left(x + 1\\right) \\left(x + 5\\right)$"
      ],
      "text/plain": [
       "(x + 1)*(x + 5)"
      ]
     },
     "execution_count": 31,
     "metadata": {},
     "output_type": "execute_result"
    }
   ],
   "source": [
    "factor(x**2 +6*x + 5) ## 인수분해"
   ]
  },
  {
   "cell_type": "code",
   "execution_count": 36,
   "id": "160595d6",
   "metadata": {},
   "outputs": [
    {
     "data": {
      "text/latex": [
       "$\\displaystyle x^{2} + y^{2}$"
      ],
      "text/plain": [
       "x**2 + y**2"
      ]
     },
     "execution_count": 36,
     "metadata": {},
     "output_type": "execute_result"
    }
   ],
   "source": [
    "factor((x**2) + (y**2))"
   ]
  },
  {
   "cell_type": "markdown",
   "id": "91e27a99",
   "metadata": {},
   "source": [
    "## 지수함수 구하기"
   ]
  },
  {
   "cell_type": "code",
   "execution_count": 39,
   "id": "fe58104a",
   "metadata": {},
   "outputs": [],
   "source": [
    "import math"
   ]
  },
  {
   "cell_type": "code",
   "execution_count": 41,
   "id": "f2c41029",
   "metadata": {},
   "outputs": [
    {
     "name": "stdout",
     "output_type": "stream",
     "text": [
      "32.0\n"
     ]
    }
   ],
   "source": [
    "pow = math.pow(2,5) ## 2**5\n",
    "print(pow)"
   ]
  },
  {
   "cell_type": "code",
   "execution_count": 42,
   "id": "e60affb2",
   "metadata": {},
   "outputs": [
    {
     "name": "stdout",
     "output_type": "stream",
     "text": [
      "1.4142135623730951\n"
     ]
    }
   ],
   "source": [
    "sqrt = math.sqrt(2)\n",
    "print(sqrt)"
   ]
  },
  {
   "cell_type": "code",
   "execution_count": 43,
   "id": "9961cc58",
   "metadata": {},
   "outputs": [
    {
     "name": "stdout",
     "output_type": "stream",
     "text": [
      "7.38905609893065\n"
     ]
    }
   ],
   "source": [
    "exp = math.exp(2) ## e의 2제곱\n",
    "print(exp)"
   ]
  },
  {
   "cell_type": "markdown",
   "id": "a668910f",
   "metadata": {},
   "source": [
    "## 로그함수 구하기"
   ]
  },
  {
   "cell_type": "code",
   "execution_count": 49,
   "id": "12c761b5",
   "metadata": {},
   "outputs": [],
   "source": [
    "import math"
   ]
  },
  {
   "cell_type": "code",
   "execution_count": 50,
   "id": "cc661740",
   "metadata": {},
   "outputs": [
    {
     "data": {
      "text/plain": [
       "0.5"
      ]
     },
     "execution_count": 50,
     "metadata": {},
     "output_type": "execute_result"
    }
   ],
   "source": [
    "math.log(2,4) #밑이 4이고 진수가 2인 로그 log42"
   ]
  },
  {
   "cell_type": "code",
   "execution_count": null,
   "id": "5c05755a",
   "metadata": {},
   "outputs": [],
   "source": []
  }
 ],
 "metadata": {
  "kernelspec": {
   "display_name": "Python 3 (ipykernel)",
   "language": "python",
   "name": "python3"
  },
  "language_info": {
   "codemirror_mode": {
    "name": "ipython",
    "version": 3
   },
   "file_extension": ".py",
   "mimetype": "text/x-python",
   "name": "python",
   "nbconvert_exporter": "python",
   "pygments_lexer": "ipython3",
   "version": "3.7.11"
  }
 },
 "nbformat": 4,
 "nbformat_minor": 5
}
