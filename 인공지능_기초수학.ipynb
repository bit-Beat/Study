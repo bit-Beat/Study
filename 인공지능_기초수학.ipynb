{
 "cells": [
  {
   "cell_type": "markdown",
   "id": "a58ff3ce",
   "metadata": {},
   "source": [
    "## 방정식의 해를 구하는 라이브러리"
   ]
  },
  {
   "cell_type": "code",
   "execution_count": 2,
   "id": "1e3928bb",
   "metadata": {},
   "outputs": [],
   "source": [
    "from sympy import Symbol, solve"
   ]
  },
  {
   "cell_type": "code",
   "execution_count": 10,
   "id": "6d4d3a2f",
   "metadata": {},
   "outputs": [],
   "source": [
    "x = Symbol('x')\n",
    "y = Symbol('y')"
   ]
  },
  {
   "cell_type": "code",
   "execution_count": 11,
   "id": "f037c6f2",
   "metadata": {},
   "outputs": [
    {
     "data": {
      "text/latex": [
       "$\\displaystyle 2 x - 6$"
      ],
      "text/plain": [
       "2*x - 6"
      ]
     },
     "execution_count": 11,
     "metadata": {},
     "output_type": "execute_result"
    }
   ],
   "source": [
    "equation = 2 * x - 6\n",
    "equation2 = 2 * x + y -6\n",
    "equation"
   ]
  },
  {
   "cell_type": "code",
   "execution_count": 12,
   "id": "cb3358a2",
   "metadata": {},
   "outputs": [
    {
     "data": {
      "text/plain": [
       "[3]"
      ]
     },
     "execution_count": 12,
     "metadata": {},
     "output_type": "execute_result"
    }
   ],
   "source": [
    "solve(equation)"
   ]
  },
  {
   "cell_type": "code",
   "execution_count": 13,
   "id": "dfda6431",
   "metadata": {},
   "outputs": [
    {
     "data": {
      "text/plain": [
       "[{x: 3 - y/2}]"
      ]
     },
     "execution_count": 13,
     "metadata": {},
     "output_type": "execute_result"
    }
   ],
   "source": [
    "solve(equation2)"
   ]
  },
  {
   "cell_type": "markdown",
   "id": "1b6f8c0b",
   "metadata": {},
   "source": [
    "- 연립방정식 구하는 식"
   ]
  },
  {
   "cell_type": "code",
   "execution_count": 14,
   "id": "432c7cec",
   "metadata": {},
   "outputs": [],
   "source": [
    "x = Symbol('x')\n",
    "y = Symbol('y')"
   ]
  },
  {
   "cell_type": "code",
   "execution_count": 15,
   "id": "936a0f21",
   "metadata": {},
   "outputs": [],
   "source": [
    "equation1 = 3 * x + y - 2\n",
    "equation2 = x - 2 * y - 3"
   ]
  },
  {
   "cell_type": "code",
   "execution_count": 16,
   "id": "831648d1",
   "metadata": {},
   "outputs": [
    {
     "data": {
      "text/plain": [
       "[{x: 1, y: -1}]"
      ]
     },
     "execution_count": 16,
     "metadata": {},
     "output_type": "execute_result"
    }
   ],
   "source": [
    "solve((equation1, equation2),dict=True) ## dict옵션은 해를 딕셔너리 형태로 반환"
   ]
  },
  {
   "cell_type": "markdown",
   "id": "a3644cdd",
   "metadata": {},
   "source": [
    "## 제곱근 구하기"
   ]
  },
  {
   "cell_type": "code",
   "execution_count": 1,
   "id": "8f1f34d4",
   "metadata": {},
   "outputs": [],
   "source": [
    "import math"
   ]
  },
  {
   "cell_type": "code",
   "execution_count": 2,
   "id": "d6dc0253",
   "metadata": {},
   "outputs": [
    {
     "data": {
      "text/plain": [
       "30.0"
      ]
     },
     "execution_count": 2,
     "metadata": {},
     "output_type": "execute_result"
    }
   ],
   "source": [
    "math.sqrt(900)"
   ]
  },
  {
   "cell_type": "code",
   "execution_count": 21,
   "id": "60732ce5",
   "metadata": {},
   "outputs": [
    {
     "data": {
      "text/plain": [
       "2.0"
      ]
     },
     "execution_count": 21,
     "metadata": {},
     "output_type": "execute_result"
    }
   ],
   "source": [
    "math.sqrt(4) ## 4의 제곱근은 2"
   ]
  },
  {
   "cell_type": "code",
   "execution_count": 22,
   "id": "049dc605",
   "metadata": {},
   "outputs": [
    {
     "data": {
      "text/plain": [
       "1.4142135623730951"
      ]
     },
     "execution_count": 22,
     "metadata": {},
     "output_type": "execute_result"
    }
   ],
   "source": [
    "math.sqrt(2)"
   ]
  },
  {
   "cell_type": "code",
   "execution_count": 24,
   "id": "536689d2",
   "metadata": {},
   "outputs": [
    {
     "data": {
      "text/plain": [
       "1.7320508075688772"
      ]
     },
     "execution_count": 24,
     "metadata": {},
     "output_type": "execute_result"
    }
   ],
   "source": [
    "math.sqrt(3)"
   ]
  },
  {
   "cell_type": "code",
   "execution_count": 37,
   "id": "b05c1feb",
   "metadata": {},
   "outputs": [
    {
     "data": {
      "text/plain": [
       "7.416198487095663"
      ]
     },
     "execution_count": 37,
     "metadata": {},
     "output_type": "execute_result"
    }
   ],
   "source": [
    "math.sqrt(55)"
   ]
  },
  {
   "cell_type": "markdown",
   "id": "61781278",
   "metadata": {},
   "source": [
    "## 인수분해 및 전개 구하기"
   ]
  },
  {
   "cell_type": "code",
   "execution_count": 27,
   "id": "1fa600f6",
   "metadata": {},
   "outputs": [],
   "source": [
    "from sympy import expand, factor, Symbol"
   ]
  },
  {
   "cell_type": "code",
   "execution_count": 32,
   "id": "e7a8d428",
   "metadata": {},
   "outputs": [],
   "source": [
    "x = Symbol('x')\n",
    "y = Symbol('y')"
   ]
  },
  {
   "cell_type": "code",
   "execution_count": 30,
   "id": "0ae8b4ca",
   "metadata": {},
   "outputs": [
    {
     "data": {
      "text/latex": [
       "$\\displaystyle x^{2} + 6 x + 5$"
      ],
      "text/plain": [
       "x**2 + 6*x + 5"
      ]
     },
     "execution_count": 30,
     "metadata": {},
     "output_type": "execute_result"
    }
   ],
   "source": [
    "expand((x+1) * (x+5)) ## 전개"
   ]
  },
  {
   "cell_type": "code",
   "execution_count": 31,
   "id": "350a6ca1",
   "metadata": {},
   "outputs": [
    {
     "data": {
      "text/latex": [
       "$\\displaystyle \\left(x + 1\\right) \\left(x + 5\\right)$"
      ],
      "text/plain": [
       "(x + 1)*(x + 5)"
      ]
     },
     "execution_count": 31,
     "metadata": {},
     "output_type": "execute_result"
    }
   ],
   "source": [
    "factor(x**2 +6*x + 5) ## 인수분해"
   ]
  },
  {
   "cell_type": "code",
   "execution_count": 36,
   "id": "160595d6",
   "metadata": {},
   "outputs": [
    {
     "data": {
      "text/latex": [
       "$\\displaystyle x^{2} + y^{2}$"
      ],
      "text/plain": [
       "x**2 + y**2"
      ]
     },
     "execution_count": 36,
     "metadata": {},
     "output_type": "execute_result"
    }
   ],
   "source": [
    "factor((x**2) + (y**2))"
   ]
  },
  {
   "cell_type": "markdown",
   "id": "91e27a99",
   "metadata": {},
   "source": [
    "## 지수함수 구하기"
   ]
  },
  {
   "cell_type": "code",
   "execution_count": 39,
   "id": "fe58104a",
   "metadata": {},
   "outputs": [],
   "source": [
    "import math"
   ]
  },
  {
   "cell_type": "code",
   "execution_count": 41,
   "id": "f2c41029",
   "metadata": {},
   "outputs": [
    {
     "name": "stdout",
     "output_type": "stream",
     "text": [
      "32.0\n"
     ]
    }
   ],
   "source": [
    "pow = math.pow(2,5) ## 2**5\n",
    "print(pow)"
   ]
  },
  {
   "cell_type": "code",
   "execution_count": 42,
   "id": "e60affb2",
   "metadata": {},
   "outputs": [
    {
     "name": "stdout",
     "output_type": "stream",
     "text": [
      "1.4142135623730951\n"
     ]
    }
   ],
   "source": [
    "sqrt = math.sqrt(2)\n",
    "print(sqrt)"
   ]
  },
  {
   "cell_type": "code",
   "execution_count": 43,
   "id": "9961cc58",
   "metadata": {},
   "outputs": [
    {
     "name": "stdout",
     "output_type": "stream",
     "text": [
      "7.38905609893065\n"
     ]
    }
   ],
   "source": [
    "exp = math.exp(2) ## e의 2제곱\n",
    "print(exp)"
   ]
  },
  {
   "cell_type": "markdown",
   "id": "a668910f",
   "metadata": {},
   "source": [
    "## 로그함수 구하기"
   ]
  },
  {
   "cell_type": "code",
   "execution_count": 49,
   "id": "12c761b5",
   "metadata": {},
   "outputs": [],
   "source": [
    "import math"
   ]
  },
  {
   "cell_type": "code",
   "execution_count": 50,
   "id": "cc661740",
   "metadata": {},
   "outputs": [
    {
     "data": {
      "text/plain": [
       "0.5"
      ]
     },
     "execution_count": 50,
     "metadata": {},
     "output_type": "execute_result"
    }
   ],
   "source": [
    "math.log(2,4) #밑이 4이고 진수가 2인 로그 log42"
   ]
  },
  {
   "cell_type": "markdown",
   "id": "4c30e0e0",
   "metadata": {},
   "source": [
    "## 극한값 구하기"
   ]
  },
  {
   "cell_type": "code",
   "execution_count": 2,
   "id": "8d391ee9",
   "metadata": {},
   "outputs": [],
   "source": [
    "from sympy import Limit, S, Symbol"
   ]
  },
  {
   "cell_type": "code",
   "execution_count": 3,
   "id": "dbdfb725",
   "metadata": {},
   "outputs": [
    {
     "data": {
      "text/latex": [
       "$\\displaystyle 0$"
      ],
      "text/plain": [
       "0"
      ]
     },
     "execution_count": 3,
     "metadata": {},
     "output_type": "execute_result"
    }
   ],
   "source": [
    "x = Symbol('x')\n",
    "Limit(1/x,x,S.Infinity).doit()"
   ]
  },
  {
   "cell_type": "code",
   "execution_count": 4,
   "id": "239ba036",
   "metadata": {},
   "outputs": [
    {
     "data": {
      "text/latex": [
       "$\\displaystyle \\infty$"
      ],
      "text/plain": [
       "oo"
      ]
     },
     "execution_count": 4,
     "metadata": {},
     "output_type": "execute_result"
    }
   ],
   "source": [
    "Limit(1/x,x,0).doit()"
   ]
  },
  {
   "cell_type": "code",
   "execution_count": 5,
   "id": "31899637",
   "metadata": {},
   "outputs": [
    {
     "data": {
      "text/latex": [
       "$\\displaystyle -\\infty$"
      ],
      "text/plain": [
       "-oo"
      ]
     },
     "execution_count": 5,
     "metadata": {},
     "output_type": "execute_result"
    }
   ],
   "source": [
    "Limit(1/x,x,0,dir='-').doit()"
   ]
  },
  {
   "cell_type": "markdown",
   "id": "ef5ab477",
   "metadata": {},
   "source": [
    "## 평균변화율 (기울기) 구하기"
   ]
  },
  {
   "cell_type": "code",
   "execution_count": 8,
   "id": "3ba69c7b",
   "metadata": {},
   "outputs": [],
   "source": [
    "from sympy import symbols"
   ]
  },
  {
   "cell_type": "code",
   "execution_count": 10,
   "id": "2a6ebcaf",
   "metadata": {},
   "outputs": [
    {
     "name": "stdout",
     "output_type": "stream",
     "text": [
      "8\n"
     ]
    }
   ],
   "source": [
    "def average(a,b):\n",
    "    m = max(a,b)\n",
    "    n = min(a,b)\n",
    "    x = symbols('x')\n",
    "    \n",
    "    fx = (2*(x**2)) + (4*x) + 7 \n",
    "    fb = fx.subs(x, m)\n",
    "    fa = fx.subs(x, n)\n",
    "    \n",
    "    result = (fb - fa) / (m-n)\n",
    "    return result\n",
    "\n",
    "print(average(0,2))"
   ]
  },
  {
   "cell_type": "markdown",
   "id": "ff81e4a8",
   "metadata": {},
   "source": [
    "## 도함수 구하기"
   ]
  },
  {
   "cell_type": "code",
   "execution_count": 11,
   "id": "edbc1f5a",
   "metadata": {},
   "outputs": [],
   "source": [
    "from sympy import Derivative, symbols"
   ]
  },
  {
   "cell_type": "code",
   "execution_count": 12,
   "id": "cf9a545a",
   "metadata": {},
   "outputs": [],
   "source": [
    "x = symbols('x')\n",
    "fx = (2*(x**2)) + (7 * x) + 7"
   ]
  },
  {
   "cell_type": "code",
   "execution_count": 17,
   "id": "f0b9fc53",
   "metadata": {},
   "outputs": [
    {
     "data": {
      "text/latex": [
       "$\\displaystyle 4 x + 7$"
      ],
      "text/plain": [
       "4*x + 7"
      ]
     },
     "execution_count": 17,
     "metadata": {},
     "output_type": "execute_result"
    }
   ],
   "source": [
    "Derivative(fx,x).doit()"
   ]
  },
  {
   "cell_type": "markdown",
   "id": "e53b1206",
   "metadata": {},
   "source": [
    "## 미분"
   ]
  },
  {
   "cell_type": "code",
   "execution_count": 20,
   "id": "ee14fc24",
   "metadata": {},
   "outputs": [],
   "source": [
    "import sympy as sym"
   ]
  },
  {
   "cell_type": "code",
   "execution_count": 21,
   "id": "0096f014",
   "metadata": {},
   "outputs": [
    {
     "name": "stdout",
     "output_type": "stream",
     "text": [
      "6*x**2 + 6*x + 1\n"
     ]
    }
   ],
   "source": [
    "x = sym.Symbol('x')\n",
    "a = sym.diff((2*x**3 + 3*x**2 + x + 1),x)\n",
    "print(a)"
   ]
  },
  {
   "cell_type": "code",
   "execution_count": 23,
   "id": "02a4869f",
   "metadata": {},
   "outputs": [
    {
     "data": {
      "text/latex": [
       "$\\displaystyle 4 x + 7$"
      ],
      "text/plain": [
       "4*x + 7"
      ]
     },
     "execution_count": 23,
     "metadata": {},
     "output_type": "execute_result"
    }
   ],
   "source": [
    "fx = (2*(x**2)) + (7*x) + 7\n",
    "sym.diff(fx)"
   ]
  },
  {
   "cell_type": "markdown",
   "id": "c1b66190",
   "metadata": {},
   "source": [
    "- 도함수와 미분의 값이 같다"
   ]
  },
  {
   "cell_type": "markdown",
   "id": "817418ea",
   "metadata": {},
   "source": [
    "## 함수 그래프 그리기"
   ]
  },
  {
   "cell_type": "code",
   "execution_count": 20,
   "id": "b9831b11",
   "metadata": {},
   "outputs": [],
   "source": [
    "import numpy as np\n",
    "import matplotlib.pyplot as plt"
   ]
  },
  {
   "cell_type": "code",
   "execution_count": 41,
   "id": "70590db2",
   "metadata": {},
   "outputs": [],
   "source": [
    "dx = np.arange(6)"
   ]
  },
  {
   "cell_type": "code",
   "execution_count": 20,
   "id": "bd131a55",
   "metadata": {},
   "outputs": [],
   "source": [
    "x = sym.Symbol('x')"
   ]
  },
  {
   "cell_type": "code",
   "execution_count": 21,
   "id": "c4d00274",
   "metadata": {},
   "outputs": [],
   "source": [
    "fx = 2 * x**3 - 6 * x**2"
   ]
  },
  {
   "cell_type": "code",
   "execution_count": 22,
   "id": "60c07b14",
   "metadata": {},
   "outputs": [
    {
     "data": {
      "text/latex": [
       "$\\displaystyle 2 x^{3} - 6 x^{2}$"
      ],
      "text/plain": [
       "2*x**3 - 6*x**2"
      ]
     },
     "execution_count": 22,
     "metadata": {},
     "output_type": "execute_result"
    }
   ],
   "source": [
    "fx"
   ]
  },
  {
   "cell_type": "code",
   "execution_count": 43,
   "id": "56b354f2",
   "metadata": {},
   "outputs": [
    {
     "data": {
      "text/plain": [
       "[<matplotlib.lines.Line2D at 0x201d3668a88>]"
      ]
     },
     "execution_count": 43,
     "metadata": {},
     "output_type": "execute_result"
    },
    {
     "data": {
      "image/png": "[encoded data removed]",
      "text/plain": [
       "<Figure size 432x288 with 1 Axes>"
      ]
     },
     "metadata": {
      "needs_background": "light"
     },
     "output_type": "display_data"
    }
   ],
   "source": [
    "plt.plot(dx,2 * dx**3 - 6 * dx**2)"
   ]
  },
  {
   "cell_type": "markdown",
   "id": "b71ef4b5",
   "metadata": {},
   "source": [
    "## 랭크 계산"
   ]
  },
  {
   "cell_type": "markdown",
   "id": "0094b5cf",
   "metadata": {},
   "source": [
    "- p.202"
   ]
  },
  {
   "cell_type": "code",
   "execution_count": 44,
   "id": "2241dc1a",
   "metadata": {},
   "outputs": [],
   "source": [
    "import numpy as np"
   ]
  },
  {
   "cell_type": "code",
   "execution_count": 45,
   "id": "18744a40",
   "metadata": {},
   "outputs": [
    {
     "data": {
      "text/plain": [
       "2"
      ]
     },
     "execution_count": 45,
     "metadata": {},
     "output_type": "execute_result"
    }
   ],
   "source": [
    "X1 = np.array([[2,7], [5,1]])\n",
    "np.linalg.matrix_rank(X1)"
   ]
  },
  {
   "cell_type": "code",
   "execution_count": 47,
   "id": "92cc7fcb",
   "metadata": {},
   "outputs": [
    {
     "data": {
      "text/plain": [
       "1"
      ]
     },
     "execution_count": 47,
     "metadata": {},
     "output_type": "execute_result"
    }
   ],
   "source": [
    "X2 = np.array([[2,4],[3,6]])\n",
    "np.linalg.matrix_rank(X2)"
   ]
  },
  {
   "cell_type": "markdown",
   "id": "a35f22dc",
   "metadata": {},
   "source": [
    "## 벡터의 덧셈"
   ]
  },
  {
   "cell_type": "code",
   "execution_count": 48,
   "id": "01bcfb51",
   "metadata": {},
   "outputs": [],
   "source": [
    "x=[-4,5]\n",
    "y=[-2,8]"
   ]
  },
  {
   "cell_type": "code",
   "execution_count": 54,
   "id": "d4180098",
   "metadata": {},
   "outputs": [
    {
     "data": {
      "text/plain": [
       "[-4, 5, -2, 8]"
      ]
     },
     "execution_count": 54,
     "metadata": {},
     "output_type": "execute_result"
    }
   ],
   "source": [
    "x+y"
   ]
  },
  {
   "cell_type": "code",
   "execution_count": 53,
   "id": "f471322a",
   "metadata": {},
   "outputs": [
    {
     "data": {
      "text/plain": [
       "array([-6, 13])"
      ]
     },
     "execution_count": 53,
     "metadata": {},
     "output_type": "execute_result"
    }
   ],
   "source": [
    "np.array(x) + np.array(y)"
   ]
  },
  {
   "cell_type": "code",
   "execution_count": 57,
   "id": "c98e70f5",
   "metadata": {},
   "outputs": [
    {
     "data": {
      "text/plain": [
       "array([-12,  15])"
      ]
     },
     "execution_count": 57,
     "metadata": {},
     "output_type": "execute_result"
    }
   ],
   "source": [
    "3*np.array(x)"
   ]
  },
  {
   "cell_type": "code",
   "execution_count": 58,
   "id": "94de88b9",
   "metadata": {},
   "outputs": [
    {
     "data": {
      "text/plain": [
       "[-4, 5, -4, 5, -4, 5]"
      ]
     },
     "execution_count": 58,
     "metadata": {},
     "output_type": "execute_result"
    }
   ],
   "source": [
    "3*x"
   ]
  },
  {
   "cell_type": "markdown",
   "id": "0dc2f961",
   "metadata": {},
   "source": [
    "## 백터의 내적 (즉, 행렬곱)"
   ]
  },
  {
   "cell_type": "code",
   "execution_count": 59,
   "id": "8a63cb8d",
   "metadata": {},
   "outputs": [],
   "source": [
    "import numpy as np"
   ]
  },
  {
   "cell_type": "code",
   "execution_count": 60,
   "id": "be3fe57c",
   "metadata": {},
   "outputs": [
    {
     "data": {
      "text/plain": [
       "72"
      ]
     },
     "execution_count": 60,
     "metadata": {},
     "output_type": "execute_result"
    }
   ],
   "source": [
    "u = np.array([6,6])\n",
    "v = np.array([12,0])\n",
    "\n",
    "uv = np.dot(u,v)\n",
    "uv"
   ]
  },
  {
   "cell_type": "code",
   "execution_count": 61,
   "id": "552a4f10",
   "metadata": {},
   "outputs": [
    {
     "data": {
      "text/plain": [
       "72"
      ]
     },
     "execution_count": 61,
     "metadata": {},
     "output_type": "execute_result"
    }
   ],
   "source": [
    "np.matmul(u,v)"
   ]
  },
  {
   "cell_type": "markdown",
   "id": "ac4d54c1",
   "metadata": {},
   "source": [
    "## 백터의 외적 "
   ]
  },
  {
   "cell_type": "code",
   "execution_count": 62,
   "id": "cf9f9377",
   "metadata": {},
   "outputs": [],
   "source": [
    "import numpy as np"
   ]
  },
  {
   "cell_type": "code",
   "execution_count": 63,
   "id": "9f0414c9",
   "metadata": {},
   "outputs": [],
   "source": [
    "a = (1,3,5)\n",
    "b = (2,4,6)"
   ]
  },
  {
   "cell_type": "code",
   "execution_count": 64,
   "id": "62594374",
   "metadata": {},
   "outputs": [
    {
     "data": {
      "text/plain": [
       "array([-2,  4, -2])"
      ]
     },
     "execution_count": 64,
     "metadata": {},
     "output_type": "execute_result"
    }
   ],
   "source": [
    "np.cross(a,b)"
   ]
  },
  {
   "cell_type": "code",
   "execution_count": 65,
   "id": "38601304",
   "metadata": {},
   "outputs": [],
   "source": [
    "x=[1,3,5]\n",
    "y=[2,4,6]"
   ]
  },
  {
   "cell_type": "code",
   "execution_count": 66,
   "id": "a2b7ba85",
   "metadata": {},
   "outputs": [
    {
     "data": {
      "text/plain": [
       "array([-2,  4, -2])"
      ]
     },
     "execution_count": 66,
     "metadata": {},
     "output_type": "execute_result"
    }
   ],
   "source": [
    "np.cross(x,y)"
   ]
  },
  {
   "cell_type": "markdown",
   "id": "92d75dc7",
   "metadata": {},
   "source": [
    "## 벡터의 길이 = 크기 = norm"
   ]
  },
  {
   "cell_type": "code",
   "execution_count": 67,
   "id": "7bdeb61f",
   "metadata": {},
   "outputs": [],
   "source": [
    "import numpy as np"
   ]
  },
  {
   "cell_type": "code",
   "execution_count": 68,
   "id": "1a9c2639",
   "metadata": {},
   "outputs": [
    {
     "name": "stdout",
     "output_type": "stream",
     "text": [
      "[1 2]\n"
     ]
    }
   ],
   "source": [
    "a = np.array([1,2])\n",
    "print(a)"
   ]
  },
  {
   "cell_type": "code",
   "execution_count": 69,
   "id": "0d691e52",
   "metadata": {},
   "outputs": [
    {
     "data": {
      "text/plain": [
       "2.23606797749979"
      ]
     },
     "execution_count": 69,
     "metadata": {},
     "output_type": "execute_result"
    }
   ],
   "source": [
    "np.linalg.norm(a)"
   ]
  },
  {
   "cell_type": "markdown",
   "id": "fbfe3ba3",
   "metadata": {},
   "source": [
    "## 유클리드 거리 "
   ]
  },
  {
   "cell_type": "code",
   "execution_count": 70,
   "id": "0291fd20",
   "metadata": {},
   "outputs": [],
   "source": [
    "from scipy.spatial import distance"
   ]
  },
  {
   "cell_type": "code",
   "execution_count": 71,
   "id": "afe225b8",
   "metadata": {},
   "outputs": [
    {
     "name": "stdout",
     "output_type": "stream",
     "text": [
      "5.196152422706632\n"
     ]
    }
   ],
   "source": [
    "p1 = (1,2,3)\n",
    "p2 = (4,5,6)\n",
    "\n",
    "d = distance.euclidean(p1, p2)\n",
    "print(d)"
   ]
  },
  {
   "cell_type": "markdown",
   "id": "a2f3ffef",
   "metadata": {},
   "source": [
    "## 맨해튼 거리"
   ]
  },
  {
   "cell_type": "code",
   "execution_count": 73,
   "id": "83635ff8",
   "metadata": {},
   "outputs": [],
   "source": [
    "from math import *"
   ]
  },
  {
   "cell_type": "code",
   "execution_count": 74,
   "id": "b4981ea0",
   "metadata": {},
   "outputs": [],
   "source": [
    "p1 = (1,2,3)\n",
    "p2 = (4,5,6)"
   ]
  },
  {
   "cell_type": "code",
   "execution_count": 75,
   "id": "74e7ea64",
   "metadata": {},
   "outputs": [],
   "source": [
    "def manhattan_distance(x,y):\n",
    "    return sum(abs(a-b) for a,b in zip(x,y))"
   ]
  },
  {
   "cell_type": "code",
   "execution_count": 76,
   "id": "c6fdb405",
   "metadata": {},
   "outputs": [
    {
     "data": {
      "text/plain": [
       "9"
      ]
     },
     "execution_count": 76,
     "metadata": {},
     "output_type": "execute_result"
    }
   ],
   "source": [
    "manhattan_distance(p1,p2)"
   ]
  },
  {
   "cell_type": "markdown",
   "id": "0b82229d",
   "metadata": {},
   "source": [
    "## 코사인 유사도"
   ]
  },
  {
   "cell_type": "code",
   "execution_count": 78,
   "id": "cd8e7525",
   "metadata": {},
   "outputs": [],
   "source": [
    "from numpy import dot\n",
    "from numpy.linalg import norm\n",
    "import numpy as np"
   ]
  },
  {
   "cell_type": "code",
   "execution_count": 79,
   "id": "93c4bf00",
   "metadata": {},
   "outputs": [],
   "source": [
    "def cos_sim(A, B):\n",
    "    return dot(A,B) / (norm(A)*norm(B))"
   ]
  },
  {
   "cell_type": "code",
   "execution_count": 80,
   "id": "3dfeca67",
   "metadata": {},
   "outputs": [],
   "source": [
    "doc1 = np.array([1,1,1,1,0])\n",
    "doc2 = np.array([1,0,1,0,1])\n",
    "doc3 = np.array([2,1,1,1,1])"
   ]
  },
  {
   "cell_type": "code",
   "execution_count": 81,
   "id": "63ad85b9",
   "metadata": {},
   "outputs": [
    {
     "data": {
      "text/plain": [
       "0.5773502691896258"
      ]
     },
     "execution_count": 81,
     "metadata": {},
     "output_type": "execute_result"
    }
   ],
   "source": [
    "cos_sim(doc1, doc2)"
   ]
  },
  {
   "cell_type": "code",
   "execution_count": 82,
   "id": "84a41fde",
   "metadata": {},
   "outputs": [
    {
     "data": {
      "text/plain": [
       "0.8838834764831843"
      ]
     },
     "execution_count": 82,
     "metadata": {},
     "output_type": "execute_result"
    }
   ],
   "source": [
    "cos_sim(doc1, doc3)"
   ]
  },
  {
   "cell_type": "code",
   "execution_count": 83,
   "id": "d6fab844",
   "metadata": {},
   "outputs": [
    {
     "data": {
      "text/plain": [
       "0.8164965809277259"
      ]
     },
     "execution_count": 83,
     "metadata": {},
     "output_type": "execute_result"
    }
   ],
   "source": [
    "cos_sim(doc2, doc3)"
   ]
  },
  {
   "cell_type": "markdown",
   "id": "dab42d8d",
   "metadata": {},
   "source": [
    "## 선형방정식 역행렬을 이용하여 구하기"
   ]
  },
  {
   "cell_type": "markdown",
   "id": "ad5d24a4",
   "metadata": {},
   "source": [
    "- p.272"
   ]
  },
  {
   "cell_type": "code",
   "execution_count": 1,
   "id": "93a1fb0d",
   "metadata": {},
   "outputs": [],
   "source": [
    "import numpy as np"
   ]
  },
  {
   "cell_type": "code",
   "execution_count": 2,
   "id": "acaae6ac",
   "metadata": {},
   "outputs": [],
   "source": [
    "A = np.matrix([[1,0,0,0], [2,1,0,0],[3,0,1,0],[4,0,0,1]])"
   ]
  },
  {
   "cell_type": "code",
   "execution_count": 4,
   "id": "34114f1f",
   "metadata": {},
   "outputs": [
    {
     "name": "stdout",
     "output_type": "stream",
     "text": [
      "[[ 1.  0.  0.  0.]\n",
      " [-2.  1.  0.  0.]\n",
      " [-3.  0.  1.  0.]\n",
      " [-4. -0. -0.  1.]]\n"
     ]
    }
   ],
   "source": [
    "print(np.linalg.inv(A))"
   ]
  },
  {
   "cell_type": "code",
   "execution_count": 5,
   "id": "dd4597fb",
   "metadata": {},
   "outputs": [],
   "source": [
    "B = [[1,2],[3,4]]"
   ]
  },
  {
   "cell_type": "code",
   "execution_count": 6,
   "id": "9f2099a6",
   "metadata": {},
   "outputs": [
    {
     "data": {
      "text/plain": [
       "array([[-2. ,  1. ],\n",
       "       [ 1.5, -0.5]])"
      ]
     },
     "execution_count": 6,
     "metadata": {},
     "output_type": "execute_result"
    }
   ],
   "source": [
    "np.linalg.inv(B)"
   ]
  },
  {
   "cell_type": "code",
   "execution_count": 7,
   "id": "acd17f91",
   "metadata": {},
   "outputs": [],
   "source": [
    "C = [[2,3],[4,6]] ## 역행렬이 존재하지 않는 행렬"
   ]
  },
  {
   "cell_type": "code",
   "execution_count": 14,
   "id": "d04fe646",
   "metadata": {},
   "outputs": [
    {
     "data": {
      "text/plain": [
       "array([[ 0.07317073,  0.17073171],\n",
       "       [ 0.12195122, -0.04878049]])"
      ]
     },
     "execution_count": 14,
     "metadata": {},
     "output_type": "execute_result"
    }
   ],
   "source": [
    "np.linalg.inv([[2,7],[5,-3]])"
   ]
  },
  {
   "cell_type": "markdown",
   "id": "69b39c7d",
   "metadata": {},
   "source": [
    "## 전치행렬 "
   ]
  },
  {
   "cell_type": "markdown",
   "id": "ec29c911",
   "metadata": {},
   "source": [
    "- p.275"
   ]
  },
  {
   "cell_type": "code",
   "execution_count": 9,
   "id": "725f8b76",
   "metadata": {},
   "outputs": [],
   "source": [
    "import numpy as np"
   ]
  },
  {
   "cell_type": "code",
   "execution_count": 10,
   "id": "29b148fe",
   "metadata": {},
   "outputs": [],
   "source": [
    "a = np.arange(15).reshape(3,5)"
   ]
  },
  {
   "cell_type": "code",
   "execution_count": 11,
   "id": "dcf82537",
   "metadata": {},
   "outputs": [
    {
     "name": "stdout",
     "output_type": "stream",
     "text": [
      "[[ 0  1  2  3  4]\n",
      " [ 5  6  7  8  9]\n",
      " [10 11 12 13 14]]\n"
     ]
    }
   ],
   "source": [
    "print(a)"
   ]
  },
  {
   "cell_type": "code",
   "execution_count": 12,
   "id": "fbcd4e94",
   "metadata": {},
   "outputs": [
    {
     "data": {
      "text/plain": [
       "array([[ 0,  5, 10],\n",
       "       [ 1,  6, 11],\n",
       "       [ 2,  7, 12],\n",
       "       [ 3,  8, 13],\n",
       "       [ 4,  9, 14]])"
      ]
     },
     "execution_count": 12,
     "metadata": {},
     "output_type": "execute_result"
    }
   ],
   "source": [
    "np.transpose(a)"
   ]
  },
  {
   "cell_type": "code",
   "execution_count": 13,
   "id": "59cbcad7",
   "metadata": {},
   "outputs": [
    {
     "data": {
      "text/plain": [
       "array([[ 0,  5, 10],\n",
       "       [ 1,  6, 11],\n",
       "       [ 2,  7, 12],\n",
       "       [ 3,  8, 13],\n",
       "       [ 4,  9, 14]])"
      ]
     },
     "execution_count": 13,
     "metadata": {},
     "output_type": "execute_result"
    }
   ],
   "source": [
    "a.T"
   ]
  },
  {
   "cell_type": "markdown",
   "id": "089de958",
   "metadata": {},
   "source": [
    "## 고유값, 고유벡터"
   ]
  },
  {
   "cell_type": "markdown",
   "id": "39474386",
   "metadata": {},
   "source": [
    "- p.285"
   ]
  },
  {
   "cell_type": "code",
   "execution_count": 1,
   "id": "deb0cc9c",
   "metadata": {},
   "outputs": [],
   "source": [
    "import numpy as np"
   ]
  },
  {
   "cell_type": "code",
   "execution_count": 2,
   "id": "2ec832b5",
   "metadata": {},
   "outputs": [],
   "source": [
    "a = np.array([[5,-1],[-2,1]])"
   ]
  },
  {
   "cell_type": "code",
   "execution_count": 3,
   "id": "fdca7503",
   "metadata": {},
   "outputs": [],
   "source": [
    "w, v = np.linalg.eig(a)"
   ]
  },
  {
   "cell_type": "code",
   "execution_count": 4,
   "id": "691481df",
   "metadata": {},
   "outputs": [
    {
     "name": "stdout",
     "output_type": "stream",
     "text": [
      "[5.44948974 0.55051026]\n"
     ]
    }
   ],
   "source": [
    "print(w)"
   ]
  },
  {
   "cell_type": "code",
   "execution_count": 5,
   "id": "6d2ad8de",
   "metadata": {},
   "outputs": [
    {
     "name": "stdout",
     "output_type": "stream",
     "text": [
      "[[ 0.91209559  0.21927526]\n",
      " [-0.40997761  0.97566304]]\n"
     ]
    }
   ],
   "source": [
    "print(v)"
   ]
  },
  {
   "cell_type": "code",
   "execution_count": 6,
   "id": "ed53013d",
   "metadata": {},
   "outputs": [
    {
     "data": {
      "text/plain": [
       "<matplotlib.collections.PathCollection at 0x24b1d305ec8>"
      ]
     },
     "execution_count": 6,
     "metadata": {},
     "output_type": "execute_result"
    },
    {
     "data": {
      "image/png": "[encoded data removed]",
      "text/plain": [
       "<Figure size 432x288 with 1 Axes>"
      ]
     },
     "metadata": {
      "needs_background": "light"
     },
     "output_type": "display_data"
    }
   ],
   "source": [
    "%matplotlib inline\n",
    "import matplotlib.pyplot as plt\n",
    "\n",
    "plt.scatter(v[0][0],v[0][1])"
   ]
  },
  {
   "cell_type": "code",
   "execution_count": null,
   "id": "17690267",
   "metadata": {},
   "outputs": [],
   "source": []
  }
 ],
 "metadata": {
  "kernelspec": {
   "display_name": "Python 3 (ipykernel)",
   "language": "python",
   "name": "python3"
  },
  "language_info": {
   "codemirror_mode": {
    "name": "ipython",
    "version": 3
   },
   "file_extension": ".py",
   "mimetype": "text/x-python",
   "name": "python",
   "nbconvert_exporter": "python",
   "pygments_lexer": "ipython3",
   "version": "3.7.11"
  }
 },
 "nbformat": 4,
 "nbformat_minor": 5
}
